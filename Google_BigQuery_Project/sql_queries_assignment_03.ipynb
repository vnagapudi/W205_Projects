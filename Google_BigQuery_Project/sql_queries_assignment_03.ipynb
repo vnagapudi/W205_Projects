{
 "cells": [
  {
   "cell_type": "code",
   "execution_count": 17,
   "metadata": {},
   "outputs": [],
   "source": [
    "import pandas as pd\n",
    "%matplotlib inline"
   ]
  },
  {
   "cell_type": "markdown",
   "metadata": {},
   "source": [
    "Practice Question 1: What's the size of this dataset? (i.e., how many trips)"
   ]
  },
  {
   "cell_type": "code",
   "execution_count": 1,
   "metadata": {},
   "outputs": [
    {
     "name": "stdout",
     "output_type": "stream",
     "text": [
      "Waiting on bqjob_r5514a004f3d24ab5_00000168bbf5fee0_1 ... (0s) Current status: DONE   \n",
      "+--------+\n",
      "|  f0_   |\n",
      "+--------+\n",
      "| 983648 |\n",
      "+--------+\n"
     ]
    }
   ],
   "source": [
    "! bq query --use_legacy_sql=false 'SELECT COUNT(*) FROM `bigquery-public-data.san_francisco.bikeshare_trips`'"
   ]
  },
  {
   "cell_type": "markdown",
   "metadata": {},
   "source": [
    "Practice Question 2: What is the earliest start time and latest end time for a trip?"
   ]
  },
  {
   "cell_type": "code",
   "execution_count": 19,
   "metadata": {},
   "outputs": [
    {
     "name": "stdout",
     "output_type": "stream",
     "text": [
      "Waiting on bqjob_r7dedd6106f5b5c0c_00000168a0c5bf29_1 ... (0s) Current status: DONE   \n",
      "+----------+----------+\n",
      "|   f0_    |   f1_    |\n",
      "+----------+----------+\n",
      "| 09:08:00 | 23:48:00 |\n",
      "+----------+----------+\n"
     ]
    }
   ],
   "source": [
    "! bq query --use_legacy_sql=false '\\\n",
    "SELECT EXTRACT(TIME FROM min(start_date)), EXTRACT (TIME FROM max(end_date)) \\\n",
    "FROM `bigquery-public-data.san_francisco.bikeshare_trips` \\\n",
    "'"
   ]
  },
  {
   "cell_type": "markdown",
   "metadata": {},
   "source": [
    "Practice question 3: How many bikes are there?"
   ]
  },
  {
   "cell_type": "code",
   "execution_count": 20,
   "metadata": {},
   "outputs": [
    {
     "name": "stdout",
     "output_type": "stream",
     "text": [
      "Waiting on bqjob_r3693cd955572f2ad_00000168a0c5ca92_1 ... (0s) Current status: DONE   \n",
      "+-----+\n",
      "| f0_ |\n",
      "+-----+\n",
      "| 700 |\n",
      "+-----+\n"
     ]
    }
   ],
   "source": [
    "! bq query --use_legacy_sql=false ' \\\n",
    "SELECT COUNT(distinct bike_number) \\\n",
    "FROM `bigquery-public-data.san_francisco.bikeshare_trips` \\\n",
    "'"
   ]
  },
  {
   "cell_type": "markdown",
   "metadata": {},
   "source": [
    "New query : How many trips are in the morning vs in the afternoon"
   ]
  },
  {
   "cell_type": "code",
   "execution_count": 21,
   "metadata": {},
   "outputs": [
    {
     "name": "stdout",
     "output_type": "stream",
     "text": [
      "Waiting on bqjob_r48f5c99e4e8cb9a7_00000168a0c5d801_1 ... (0s) Current status: DONE   \n",
      "+--------+\n",
      "|  f0_   |\n",
      "+--------+\n",
      "| 412339 |\n",
      "+--------+\n"
     ]
    }
   ],
   "source": [
    "! bq query --use_legacy_sql=false ' \\\n",
    "SELECT COUNT(*) \\\n",
    "FROM `bigquery-public-data.san_francisco.bikeshare_trips` \\\n",
    "WHERE EXTRACT(TIME FROM start_date) < \"12:00:00\" \\\n",
    "'"
   ]
  },
  {
   "cell_type": "code",
   "execution_count": 23,
   "metadata": {},
   "outputs": [
    {
     "name": "stdout",
     "output_type": "stream",
     "text": [
      "Waiting on bqjob_r40ac0af832ad847b_00000168a11306d9_1 ... (0s) Current status: DONE   \n",
      "+--------+\n",
      "|  f0_   |\n",
      "+--------+\n",
      "| 570556 |\n",
      "+--------+\n"
     ]
    }
   ],
   "source": [
    "! bq query --use_legacy_sql=false '\\\n",
    "SELECT COUNT(*) \\\n",
    "FROM `bigquery-public-data.san_francisco.bikeshare_trips` \\\n",
    "WHERE EXTRACT(TIME FROM start_date) > \"12:00:01\" \\\n",
    "'"
   ]
  },
  {
   "cell_type": "markdown",
   "metadata": {},
   "source": [
    "Answer:\n",
    "\n",
    "Morning trips: 412339\n",
    "\n",
    "Afternoon trips: 570556"
   ]
  },
  {
   "cell_type": "markdown",
   "metadata": {},
   "source": [
    "### Project Questions\n",
    "\n",
    "Identify the main questions you'll need to answer to make recommendations (list\n",
    "below, add as many questions as you need).\n",
    "\n",
    "- Question 1: Are more revenues coming from weekend vs weekdays? Which one should Ford incentivise?\n",
    "\n",
    "- Question 2: What are the top 10 commutes on a weekday? (Advertize the top 5. Provide extra incentives for the next 5)\n",
    "\n",
    "- Question 3: What are the top 10 commutes over the weekend? (Advertize the top 5. Monetize the first 5 some more (tournaments?))\n",
    "\n",
    "- Question 4: Do subscribers use the bikeshare system more frequently on weekdays compared to customers? How about the weekend?\n",
    "\n",
    "- Question 5: Do customers/subscribers take longer trips over the weekend? (This is related to providing incentives over the weekend)\n",
    "\n",
    "- Question 6: Which docking stations are poorly utilized? Provide extra incentives to customers to use it: Ex: bike angel points\n",
    "\n",
    "- Question 7: What times of the day are bikes used the least? Can Ford provide day of time based incentives to improve revenues?\n",
    "\n",
    "- Question 8: Are more bikes in use over weekends and holidays? Are they used longer in weekends and holidays? Can Ford Bikeshare incentivise customers to prebook on weekends and holidays?\n",
    "\n",
    "- Question 9: If Question 8 is true, which are the top 5 routes for which you can offer incentives?\n",
    "\n",
    "- Question 10: Which zipcodes are the most frequently used? How can Ford Bikeshare incentivise the ones that are less frequently used based on customer demographics?"
   ]
  },
  {
   "cell_type": "markdown",
   "metadata": {},
   "source": [
    "Before using the dataset, I did a small amount of cleansing to remove trips that are less than 2 minutes and greater than 10 hours. I used this cleaned up data set for the queries below"
   ]
  },
  {
   "cell_type": "code",
   "execution_count": 46,
   "metadata": {},
   "outputs": [
    {
     "name": "stdout",
     "output_type": "stream",
     "text": [
      "Waiting on bqjob_r21fb40de1c7b87cb_00000168a411bc69_1 ... (0s) Current status: DONE   \n",
      "+---------+--------------+---------------------+--------------------+------------------+---------------------+------------------+----------------+-------------+----------+-----------------+\n",
      "| trip_id | duration_sec |     start_date      | start_station_name | start_station_id |      end_date       | end_station_name | end_station_id | bike_number | zip_code | subscriber_type |\n",
      "+---------+--------------+---------------------+--------------------+------------------+---------------------+------------------+----------------+-------------+----------+-----------------+\n",
      "|  944732 |         2618 | 2015-09-24 17:22:00 | Mezes              |               83 | 2015-09-24 18:06:00 | Mezes            |             83 |         653 | 94063    | Customer        |\n",
      "|  984595 |         5957 | 2015-10-25 18:12:00 | Mezes              |               83 | 2015-10-25 19:51:00 | Mezes            |             83 |          52 | nil      | Customer        |\n",
      "|  984596 |         5913 | 2015-10-25 18:13:00 | Mezes              |               83 | 2015-10-25 19:51:00 | Mezes            |             83 |         121 | nil      | Customer        |\n",
      "| 1129385 |         6079 | 2016-03-18 10:33:00 | Mezes              |               83 | 2016-03-18 12:14:00 | Mezes            |             83 |         208 | 94070    | Customer        |\n",
      "| 1030383 |         5780 | 2015-12-06 10:52:00 | Mezes              |               83 | 2015-12-06 12:28:00 | Mezes            |             83 |          44 | 94064    | Customer        |\n",
      "+---------+--------------+---------------------+--------------------+------------------+---------------------+------------------+----------------+-------------+----------+-----------------+\n"
     ]
    }
   ],
   "source": [
    "! bq query --use_legacy_sql=false '\\\n",
    "SELECT * FROM `bigquery-public-data.san_francisco.bikeshare_trips` \\\n",
    "WHERE NOT (duration_sec > 20*3600 OR duration_sec  < 2 *  60) \\\n",
    "LIMIT 5 \\\n",
    "'"
   ]
  },
  {
   "cell_type": "markdown",
   "metadata": {},
   "source": [
    "This was saved as reliable-jet-228900.bike_trip_data.bikeshare_trips_clean. The reduced dataset had 975375 rows (down from 983648)"
   ]
  },
  {
   "cell_type": "code",
   "execution_count": 43,
   "metadata": {},
   "outputs": [
    {
     "name": "stdout",
     "output_type": "stream",
     "text": [
      "Waiting on bqjob_r1a8e9ef7f8628db8_00000168a40e860e_1 ... (0s) Current status: DONE   \n",
      "+--------+\n",
      "|  f0_   |\n",
      "+--------+\n",
      "| 975375 |\n",
      "+--------+\n"
     ]
    }
   ],
   "source": [
    "! bq query --use_legacy_sql=false ' \\\n",
    "SELECT COUNT(*) \\\n",
    "FROM `reliable-jet-228900.bike_trip_data.bikeshare_trips_clean` \\\n",
    "'"
   ]
  },
  {
   "cell_type": "markdown",
   "metadata": {},
   "source": [
    "#### Question 1: \n",
    "Are more revenues coming from weekend vs weekdays? Which one should Ford incentivise?"
   ]
  },
  {
   "cell_type": "code",
   "execution_count": 26,
   "metadata": {},
   "outputs": [
    {
     "name": "stdout",
     "output_type": "stream",
     "text": [
      "Waiting on bqjob_r1332d1a1a98ad355_00000168a1e5d31e_1 ... (0s) Current status: DONE   \n",
      "+-------------+--------------------------+\n",
      "| day_of_week | trip_length_sum_per_week |\n",
      "+-------------+--------------------------+\n",
      "|           6 |                135725265 |\n",
      "|           3 |                133755198 |\n",
      "|           4 |                132861324 |\n",
      "|           5 |                132638530 |\n",
      "|           2 |                129606217 |\n",
      "|           7 |                115718564 |\n",
      "|           1 |                105157765 |\n",
      "+-------------+--------------------------+\n"
     ]
    }
   ],
   "source": [
    "! bq query --use_legacy_sql=false ' \\\n",
    "SELECT EXTRACT (DAYOFWEEK from start_date) as day_of_week, SUM(duration_sec) as trip_length_sum_per_week \\\n",
    "FROM `reliable-jet-228900.bike_trip_data.bikeshare_trips_clean` \\\n",
    "GROUP BY day_of_week \\\n",
    "ORDER BY trip_length_sum_per_week DESC; \\\n",
    "'"
   ]
  },
  {
   "cell_type": "markdown",
   "metadata": {},
   "source": [
    "Day of week starts with Sunday as \"1\" and ends with Saturday as \"7\"\n",
    "Clearly, there is less traffic during weekends than weekdays. So it makes sense to incentivise more people to use the service during weekends"
   ]
  },
  {
   "cell_type": "markdown",
   "metadata": {},
   "source": [
    "#### Question 2\n",
    "What are the top 10 commutes on a weekday? (Advertize the top 5. Provide extra incentives for the next 5)"
   ]
  },
  {
   "cell_type": "code",
   "execution_count": 27,
   "metadata": {},
   "outputs": [
    {
     "name": "stdout",
     "output_type": "stream",
     "text": [
      "Waiting on bqjob_r1d1eaa24dc26e9e5_00000168a1e8ad21_1 ... (1s) Current status: DONE   \n",
      "+----------------------------------------------------------------------------------------+-------------------------+\n",
      "|                                       trip_name                                        | trip_frequency_weekdays |\n",
      "+----------------------------------------------------------------------------------------+-------------------------+\n",
      "| San Francisco Caltrain 2 (330 Townsend)_Townsend at 7th                                |                    8047 |\n",
      "| Harry Bridges Plaza (Ferry Building)_Embarcadero at Sansome                            |                    7072 |\n",
      "| 2nd at Townsend_Harry Bridges Plaza (Ferry Building)                                   |                    7043 |\n",
      "| Townsend at 7th_San Francisco Caltrain 2 (330 Townsend)                                |                    6465 |\n",
      "| Embarcadero at Sansome_Steuart at Market                                               |                    6418 |\n",
      "| Harry Bridges Plaza (Ferry Building)_2nd at Townsend                                   |                    6378 |\n",
      "| Embarcadero at Folsom_San Francisco Caltrain (Townsend at 4th)                         |                    6156 |\n",
      "| Steuart at Market_2nd at Townsend                                                      |                    5794 |\n",
      "| Steuart at Market_San Francisco Caltrain (Townsend at 4th)                             |                    5771 |\n",
      "| Temporary Transbay Terminal (Howard at Beale)_San Francisco Caltrain (Townsend at 4th) |                    5764 |\n",
      "+----------------------------------------------------------------------------------------+-------------------------+\n"
     ]
    }
   ],
   "source": [
    "! bq query --use_legacy_sql=false ' \\\n",
    "SELECT trip_name, COUNT(trip_name) as trip_frequency_weekdays \\\n",
    "FROM ( \\\n",
    "   SELECT CONCAT(start_station_name, \"_\", end_station_name) as trip_name, \\\n",
    "   EXTRACT (DAYOFWEEK from start_date) as day_of_week \\\n",
    "   FROM `reliable-jet-228900.bike_trip_data.bikeshare_trips_clean` \\\n",
    "   ORDER BY trip_name \\\n",
    "   ) \\\n",
    "   where day_of_week > 1 and day_of_week < 7 \\\n",
    "GROUP BY trip_name \\\n",
    "ORDER BY trip_frequency_weekdays DESC \\\n",
    "LIMIT 10; \\\n",
    "'"
   ]
  },
  {
   "cell_type": "markdown",
   "metadata": {},
   "source": [
    "The top 10 weekday commutes are clearly the ones that Ford Bikeshare should focus on to increase revenues. Perhaps the stations in these routes (ex: San Francisco Caltrain 2) are heavily used and subscribers might be willing to pay extra to reserve bikes and docking stations. Ford Bikeshare might want to add more bikes/docking stations if needed. Perhaps more work needs to be done to figure out if any of these stations are running out of bikes or docking stations."
   ]
  },
  {
   "cell_type": "markdown",
   "metadata": {},
   "source": [
    "#### Question 3\n",
    "What are the top 10 commutes over the weekend? (Advertize the top 5. Monetize the first 5 some more (tournaments?))"
   ]
  },
  {
   "cell_type": "code",
   "execution_count": 35,
   "metadata": {},
   "outputs": [
    {
     "name": "stdout",
     "output_type": "stream",
     "text": [
      "Waiting on bqjob_rbc68f29dd2412e8_00000168a22f5a5d_1 ... (0s) Current status: DONE   \n",
      "+---------------------------------------------------------------------------+-------------------------+\n",
      "|                                 trip_name                                 | trip_frequency_weekends |\n",
      "+---------------------------------------------------------------------------+-------------------------+\n",
      "| Harry Bridges Plaza (Ferry Building)_Embarcadero at Sansome               |                    2078 |\n",
      "| Embarcadero at Sansome_Harry Bridges Plaza (Ferry Building)               |                    1183 |\n",
      "| Embarcadero at Sansome_Embarcadero at Sansome                             |                    1113 |\n",
      "| Harry Bridges Plaza (Ferry Building)_Harry Bridges Plaza (Ferry Building) |                    1088 |\n",
      "| Embarcadero at Bryant_Embarcadero at Sansome                              |                     697 |\n",
      "| Embarcadero at Bryant_Harry Bridges Plaza (Ferry Building)                |                     612 |\n",
      "| Embarcadero at Vallejo_Embarcadero at Sansome                             |                     603 |\n",
      "| University and Emerson_University and Emerson                             |                     582 |\n",
      "| 2nd at Townsend_Harry Bridges Plaza (Ferry Building)                      |                     577 |\n",
      "| Powell Street BART_Market at 10th                                         |                     563 |\n",
      "+---------------------------------------------------------------------------+-------------------------+\n"
     ]
    }
   ],
   "source": [
    "! bq query --use_legacy_sql=false ' \\\n",
    "SELECT trip_name, COUNT(trip_name) as trip_frequency_weekends \\\n",
    "FROM ( \\\n",
    "   SELECT CONCAT(start_station_name, \"_\", end_station_name) as trip_name, \\\n",
    "   EXTRACT (DAYOFWEEK from start_date) as day_of_week \\\n",
    "   FROM `reliable-jet-228900.bike_trip_data.bikeshare_trips_clean` \\\n",
    "   ORDER BY trip_name \\\n",
    "   ) \\\n",
    "   where day_of_week = 1 or day_of_week = 7 \\\n",
    "GROUP BY trip_name \\\n",
    "ORDER BY trip_frequency_weekends DESC \\\n",
    "LIMIT 10; \\\n",
    "'"
   ]
  },
  {
   "cell_type": "markdown",
   "metadata": {},
   "source": [
    "Based on the above stats, Ford Bikeshare can advertize the top 5 routes so that other casual customers are interested in doing these trips over the weekend. Perhaps doing meetups to explore the area with bikes over the weekend is a good marketing campaign. Perhaps for the next 5 routes, Ford Bikeshare can provide incentives such as discounted pricing to entice more casual customers/tourists to use their system"
   ]
  },
  {
   "cell_type": "markdown",
   "metadata": {},
   "source": [
    "#### Question 4\n",
    "Do subscribers use the bikeshare system more frequently on weekdays compared to customers? How about the weekend?"
   ]
  },
  {
   "cell_type": "code",
   "execution_count": 29,
   "metadata": {},
   "outputs": [
    {
     "name": "stdout",
     "output_type": "stream",
     "text": [
      "Waiting on bqjob_r7ca43cb4f257995d_00000168a1ef5269_1 ... (1s) Current status: DONE   \n",
      "+-----------------+---------------------+\n",
      "| subscriber_type | trip_count_weekdays |\n",
      "+-----------------+---------------------+\n",
      "| Customer        |               80992 |\n",
      "| Subscriber      |              783937 |\n",
      "+-----------------+---------------------+\n"
     ]
    }
   ],
   "source": [
    "! bq query --use_legacy_sql=false ' \\\n",
    "SELECT subscriber_type, COUNT(trip_id) as trip_count_weekdays \\\n",
    "FROM ( \\\n",
    "   SELECT subscriber_type, trip_id, EXTRACT (DAYOFWEEK from start_date) as day_of_week \\\n",
    "   FROM `reliable-jet-228900.bike_trip_data.bikeshare_trips_clean` \\\n",
    "   ) \\\n",
    "WHERE day_of_week > 1 and day_of_week < 7 \\\n",
    "GROUP BY subscriber_type \\\n",
    "ORDER BY trip_count_weekdays; \\\n",
    "'"
   ]
  },
  {
   "cell_type": "code",
   "execution_count": 30,
   "metadata": {},
   "outputs": [
    {
     "name": "stdout",
     "output_type": "stream",
     "text": [
      "Waiting on bqjob_r405435a70c5a4676_00000168a1f04d1e_1 ... (1s) Current status: DONE   \n",
      "+-----------------+---------------------+\n",
      "| subscriber_type | trip_count_weekends |\n",
      "+-----------------+---------------------+\n",
      "| Customer        |               54613 |\n",
      "| Subscriber      |               55833 |\n",
      "+-----------------+---------------------+\n"
     ]
    }
   ],
   "source": [
    "! bq query --use_legacy_sql=false ' \\\n",
    "SELECT subscriber_type, COUNT(trip_id) as trip_count_weekends \\\n",
    "FROM ( \\\n",
    "   SELECT subscriber_type, trip_id, EXTRACT (DAYOFWEEK from start_date) as day_of_week \\\n",
    "   FROM `reliable-jet-228900.bike_trip_data.bikeshare_trips_clean` \\\n",
    "   ) \\\n",
    "WHERE day_of_week = 1 or day_of_week = 7 \\\n",
    "GROUP BY subscriber_type \\\n",
    "ORDER BY trip_count_weekends; \\\n",
    "'"
   ]
  },
  {
   "cell_type": "markdown",
   "metadata": {},
   "source": [
    "Subscribers are very active over weekdays compared to customers. Clearly, it makes sense for Ford Bikeshare to offer incentives to lure more customers to become subscribers. But it is possible that subscribers are really the ones who use bikeshare to commute to work. And that customers are casual users (such as tourists). So incentivising customers vs subscribers to use bikeshare more frequently would require some more thought."
   ]
  },
  {
   "cell_type": "markdown",
   "metadata": {},
   "source": [
    "#### Question 5\n",
    "Do customers/subscribers take longer trips over the weekend? (This is related to providing incentives over the weekend)"
   ]
  },
  {
   "cell_type": "code",
   "execution_count": 33,
   "metadata": {},
   "outputs": [
    {
     "name": "stdout",
     "output_type": "stream",
     "text": [
      "Waiting on bqjob_r39c9518bffc06d84_00000168a1f42dbc_1 ... (0s) Current status: DONE   \n",
      "+-----------------+-------------------+\n",
      "| subscriber_type |        f0_        |\n",
      "+-----------------+-------------------+\n",
      "| Customer        | 2740.884803437355 |\n",
      "| Subscriber      | 564.5820926936767 |\n",
      "+-----------------+-------------------+\n"
     ]
    }
   ],
   "source": [
    "! bq query --use_legacy_sql=false ' \\\n",
    "SELECT subscriber_type, AVG(duration_sec) \\\n",
    "FROM ( \\\n",
    "   SELECT subscriber_type, duration_sec, EXTRACT (DAYOFWEEK from start_date) as day_of_week \\\n",
    "   FROM `reliable-jet-228900.bike_trip_data.bikeshare_trips_clean` \\\n",
    "   ) \\\n",
    "WHERE day_of_week > 1 and day_of_week < 7 \\\n",
    "GROUP BY subscriber_type; \\\n",
    "'\n"
   ]
  },
  {
   "cell_type": "code",
   "execution_count": 34,
   "metadata": {},
   "outputs": [
    {
     "name": "stdout",
     "output_type": "stream",
     "text": [
      "Waiting on bqjob_r47d3686ad36ce550_00000168a1f5699f_1 ... (1s) Current status: DONE   \n",
      "+-----------------+-------------------+\n",
      "| subscriber_type |        f0_        |\n",
      "+-----------------+-------------------+\n",
      "| Customer        | 3390.846098914152 |\n",
      "| Subscriber      | 639.2644314294431 |\n",
      "+-----------------+-------------------+\n"
     ]
    }
   ],
   "source": [
    "! bq query --use_legacy_sql=false ' \\\n",
    "SELECT subscriber_type, AVG(duration_sec) \\\n",
    "FROM ( \\\n",
    "   SELECT subscriber_type, duration_sec, EXTRACT (DAYOFWEEK from start_date) as day_of_week \\\n",
    "   FROM `reliable-jet-228900.bike_trip_data.bikeshare_trips_clean` \\\n",
    "   ) \\\n",
    "WHERE day_of_week = 1 or day_of_week = 7 \\\n",
    "GROUP BY subscriber_type; \\\n",
    "'\n"
   ]
  },
  {
   "cell_type": "markdown",
   "metadata": {},
   "source": [
    "On an average, trips are definitely longer during weekends than weekdays. Both customers and subscribers take longer trips during weekends, though clearly customers take trips that are 5x longer than subscribers on both weekdays and weekends."
   ]
  }
 ],
 "metadata": {
  "kernelspec": {
   "display_name": "Python 3",
   "language": "python",
   "name": "python3"
  },
  "language_info": {
   "codemirror_mode": {
    "name": "ipython",
    "version": 3
   },
   "file_extension": ".py",
   "mimetype": "text/x-python",
   "name": "python",
   "nbconvert_exporter": "python",
   "pygments_lexer": "ipython3",
   "version": "3.5.2"
  }
 },
 "nbformat": 4,
 "nbformat_minor": 2
}
