{
 "cells": [
  {
   "cell_type": "markdown",
   "metadata": {},
   "source": [
    "# Assignment 4: Bikeshare Project\n",
    "\n",
    "This project examines the publicly available GCP bikeshare dataset and provides a number of recommendations to Ford Bikeshare towards growing its user base and revenues. Some of the incentives that were examined include:\n",
    "\n",
    "    - Day of week based incentives\n",
    "    - Incentivizing popular weekend routes\n",
    "    - Incentivizing popular weekday routes\n",
    "    - Incentivizing subscribers vs customers\n",
    "    \n",
    "The sections following \"data cleansing\" go over each of the above in more detail providing queries and recommendations for each section.\n"
   ]
  },
  {
   "cell_type": "code",
   "execution_count": 1,
   "metadata": {},
   "outputs": [],
   "source": [
    "import pandas as pd\n",
    "%matplotlib inline"
   ]
  },
  {
   "cell_type": "markdown",
   "metadata": {},
   "source": [
    "#### Data cleansing\n",
    "Before using the dataset, I did a small amount of cleansing to remove trips that are less than 2 minutes and greater than 10 hours. I used this cleaned up data set for the queries below"
   ]
  },
  {
   "cell_type": "code",
   "execution_count": 28,
   "metadata": {},
   "outputs": [
    {
     "name": "stdout",
     "output_type": "stream",
     "text": [
      "Waiting on bqjob_r1dca9b67a2829edb_00000168c845fcb8_1 ... (0s) Current status: DONE   \n",
      "+---------+--------------+---------------------+--------------------+------------------+---------------------+------------------+----------------+-------------+----------+-----------------+\n",
      "| trip_id | duration_sec |     start_date      | start_station_name | start_station_id |      end_date       | end_station_name | end_station_id | bike_number | zip_code | subscriber_type |\n",
      "+---------+--------------+---------------------+--------------------+------------------+---------------------+------------------+----------------+-------------+----------+-----------------+\n",
      "|  944732 |         2618 | 2015-09-24 17:22:00 | Mezes              |               83 | 2015-09-24 18:06:00 | Mezes            |             83 |         653 | 94063    | Customer        |\n",
      "|  984595 |         5957 | 2015-10-25 18:12:00 | Mezes              |               83 | 2015-10-25 19:51:00 | Mezes            |             83 |          52 | nil      | Customer        |\n",
      "|  984596 |         5913 | 2015-10-25 18:13:00 | Mezes              |               83 | 2015-10-25 19:51:00 | Mezes            |             83 |         121 | nil      | Customer        |\n",
      "| 1129385 |         6079 | 2016-03-18 10:33:00 | Mezes              |               83 | 2016-03-18 12:14:00 | Mezes            |             83 |         208 | 94070    | Customer        |\n",
      "| 1030383 |         5780 | 2015-12-06 10:52:00 | Mezes              |               83 | 2015-12-06 12:28:00 | Mezes            |             83 |          44 | 94064    | Customer        |\n",
      "+---------+--------------+---------------------+--------------------+------------------+---------------------+------------------+----------------+-------------+----------+-----------------+\n"
     ]
    }
   ],
   "source": [
    "! bq query --use_legacy_sql=false '\\\n",
    "SELECT * FROM `bigquery-public-data.san_francisco.bikeshare_trips` \\\n",
    "WHERE NOT (duration_sec > 20*3600 OR duration_sec  < 2 *  60) \\\n",
    "LIMIT 5 \\\n",
    "'"
   ]
  },
  {
   "cell_type": "markdown",
   "metadata": {},
   "source": [
    "This was saved as reliable-jet-228900.bike_trip_data.bikeshare_trips_clean. The reduced dataset had 975375 rows (down from 983648)"
   ]
  },
  {
   "cell_type": "code",
   "execution_count": 29,
   "metadata": {},
   "outputs": [
    {
     "name": "stdout",
     "output_type": "stream",
     "text": [
      "Waiting on bqjob_r5d3d7dc73e664ac7_00000168c8473d25_1 ... (0s) Current status: DONE   \n",
      "+--------+\n",
      "|  f0_   |\n",
      "+--------+\n",
      "| 975375 |\n",
      "+--------+\n"
     ]
    }
   ],
   "source": [
    "! bq query --use_legacy_sql=false ' \\\n",
    "SELECT COUNT(*) \\\n",
    "FROM `reliable-jet-228900.bike_trip_data.bikeshare_trips_clean` \\\n",
    "'"
   ]
  },
  {
   "cell_type": "markdown",
   "metadata": {},
   "source": [
    "### 1. Day of week based incentives\n",
    "It is likely that customers use bikeshare more frequently during certain days of the week compared to other days. We will perform some queries to figure out which days see lesser bikeshare traffic and figure out how to increase traffic on these days. \n",
    "\n",
    "First we will perform a query to figure out the sum of the durations_sec and sort them by day of week"
   ]
  },
  {
   "cell_type": "code",
   "execution_count": 2,
   "metadata": {},
   "outputs": [
    {
     "name": "stdout",
     "output_type": "stream",
     "text": [
      "\r",
      "Waiting on bqjob_r57c2b7522e45b8f6_00000168c83e31e2_1 ... (0s) Current status: DONE   "
     ]
    }
   ],
   "source": [
    "! bq query --use_legacy_sql=false --format=csv ' \\\n",
    "SELECT EXTRACT (DAYOFWEEK from start_date) as day_of_week, SUM(duration_sec) as trip_length_sum_per_week \\\n",
    "FROM `reliable-jet-228900.bike_trip_data.bikeshare_trips_clean` \\\n",
    "GROUP BY day_of_week \\\n",
    "ORDER BY day_of_week; \\\n",
    "' > trip_len.csv"
   ]
  },
  {
   "cell_type": "code",
   "execution_count": 3,
   "metadata": {},
   "outputs": [],
   "source": [
    "trip_len_data = pd.read_csv(\"trip_len.csv\")"
   ]
  },
  {
   "cell_type": "code",
   "execution_count": 4,
   "metadata": {},
   "outputs": [
    {
     "data": {
      "text/html": [
       "<div>\n",
       "<style scoped>\n",
       "    .dataframe tbody tr th:only-of-type {\n",
       "        vertical-align: middle;\n",
       "    }\n",
       "\n",
       "    .dataframe tbody tr th {\n",
       "        vertical-align: top;\n",
       "    }\n",
       "\n",
       "    .dataframe thead th {\n",
       "        text-align: right;\n",
       "    }\n",
       "</style>\n",
       "<table border=\"1\" class=\"dataframe\">\n",
       "  <thead>\n",
       "    <tr style=\"text-align: right;\">\n",
       "      <th></th>\n",
       "      <th>day_of_week</th>\n",
       "      <th>trip_length_sum_per_week</th>\n",
       "    </tr>\n",
       "  </thead>\n",
       "  <tbody>\n",
       "    <tr>\n",
       "      <th>0</th>\n",
       "      <td>1</td>\n",
       "      <td>105157765</td>\n",
       "    </tr>\n",
       "    <tr>\n",
       "      <th>1</th>\n",
       "      <td>2</td>\n",
       "      <td>129606217</td>\n",
       "    </tr>\n",
       "    <tr>\n",
       "      <th>2</th>\n",
       "      <td>3</td>\n",
       "      <td>133755198</td>\n",
       "    </tr>\n",
       "    <tr>\n",
       "      <th>3</th>\n",
       "      <td>4</td>\n",
       "      <td>132861324</td>\n",
       "    </tr>\n",
       "    <tr>\n",
       "      <th>4</th>\n",
       "      <td>5</td>\n",
       "      <td>132638530</td>\n",
       "    </tr>\n",
       "    <tr>\n",
       "      <th>5</th>\n",
       "      <td>6</td>\n",
       "      <td>135725265</td>\n",
       "    </tr>\n",
       "    <tr>\n",
       "      <th>6</th>\n",
       "      <td>7</td>\n",
       "      <td>115718564</td>\n",
       "    </tr>\n",
       "  </tbody>\n",
       "</table>\n",
       "</div>"
      ],
      "text/plain": [
       "   day_of_week  trip_length_sum_per_week\n",
       "0            1                 105157765\n",
       "1            2                 129606217\n",
       "2            3                 133755198\n",
       "3            4                 132861324\n",
       "4            5                 132638530\n",
       "5            6                 135725265\n",
       "6            7                 115718564"
      ]
     },
     "execution_count": 4,
     "metadata": {},
     "output_type": "execute_result"
    }
   ],
   "source": [
    "trip_len_data"
   ]
  },
  {
   "cell_type": "code",
   "execution_count": 5,
   "metadata": {},
   "outputs": [],
   "source": [
    "trip_len_data[\"day\"] = ('Sunday', 'Monday', 'Tuesday', 'Wednesday', 'Thursday', 'Friday', 'Saturday')"
   ]
  },
  {
   "cell_type": "code",
   "execution_count": 6,
   "metadata": {},
   "outputs": [],
   "source": [
    "trip_len_data[\"total_trip_hours\"] = trip_len_data[\"trip_length_sum_per_week\"] / 3600"
   ]
  },
  {
   "cell_type": "code",
   "execution_count": 12,
   "metadata": {},
   "outputs": [
    {
     "data": {
      "image/png": "[encoded data removed]",
      "text/plain": [
       "<Figure size 432x288 with 1 Axes>"
      ]
     },
     "metadata": {},
     "output_type": "display_data"
    }
   ],
   "source": [
    "plt1 = trip_len_data.plot(x = 'day', y = 'total_trip_hours', kind = 'bar', legend = False)\n",
    "plt1.set_ylabel (\"Total Trip Hours\");"
   ]
  },
  {
   "cell_type": "markdown",
   "metadata": {},
   "source": [
    "Clearly as we can see Friday has the most trips, while Sunday has the least. Ford Bikeshare has to figure out how to incentivize customers over the weekends, especially Sunday. During weekdays, Friday is the busiest. \n",
    "\n",
    "In addition to figuring out how to incentivize customers, it also makes sense to figure out which are the most common trips over the weekend so as to provide further incentives to customers to take these trips. This is discussed in the next section."
   ]
  },
  {
   "cell_type": "markdown",
   "metadata": {},
   "source": [
    "#### Recommendation Set 1:\n",
    "    - Provide coupons on the mobile app for customers to redeem on Saturday and Sunday\n"
   ]
  },
  {
   "cell_type": "markdown",
   "metadata": {},
   "source": [
    "### 2. Incentivizing popular weekend routes\n",
    "\n",
    "As we saw earlier, Ford Bikeshare needs to incentivize customers to increase business by at least 20% to hit Friday highs. One way to do this is to figure out the popular routes and incentivize customers to use bikeshare for these routes. What would help here is to figure out the most popular routes during weekends. We do this using the query below"
   ]
  },
  {
   "cell_type": "code",
   "execution_count": 11,
   "metadata": {},
   "outputs": [
    {
     "name": "stdout",
     "output_type": "stream",
     "text": [
      "\r",
      "Waiting on bqjob_r6311c45c28b24e97_00000168c83ea30b_1 ... (0s) Current status: DONE   "
     ]
    }
   ],
   "source": [
    "! bq query --use_legacy_sql=false --format=csv ' \\\n",
    "SELECT trip_name, COUNT(trip_name) as trip_frequency_weekends \\\n",
    "FROM ( \\\n",
    "   SELECT CONCAT(start_station_name, \"_\", end_station_name) as trip_name, \\\n",
    "   EXTRACT (DAYOFWEEK from start_date) as day_of_week \\\n",
    "   FROM `reliable-jet-228900.bike_trip_data.bikeshare_trips_clean` \\\n",
    "   ORDER BY trip_name \\\n",
    "   ) \\\n",
    "   where day_of_week = 1 or day_of_week = 7 \\\n",
    "GROUP BY trip_name \\\n",
    "ORDER BY trip_frequency_weekends DESC \\\n",
    "LIMIT 10; \\\n",
    "' > pop_trips_wknds.csv;"
   ]
  },
  {
   "cell_type": "code",
   "execution_count": 9,
   "metadata": {},
   "outputs": [],
   "source": [
    "pop_trips_wknds = pd.read_csv('pop_trips_wknds.csv')"
   ]
  },
  {
   "cell_type": "code",
   "execution_count": 10,
   "metadata": {},
   "outputs": [
    {
     "data": {
      "image/png": "[encoded data removed]",
      "text/plain": [
       "<Figure size 432x288 with 1 Axes>"
      ]
     },
     "metadata": {},
     "output_type": "display_data"
    }
   ],
   "source": [
    "plt2 = pop_trips_wknds.plot( x = 'trip_name', y = 'trip_frequency_weekends', kind = 'barh', \n",
    "                            legend = False, fontsize = 10)\n",
    "plt2.set_xlabel (\"Number of Trips\")\n",
    "plt2.set_ylabel (\"Popular Weekend Trip Name\");"
   ]
  },
  {
   "cell_type": "markdown",
   "metadata": {},
   "source": [
    "As we can see above, there are a few popular trips and popular stations that seem to be used more often over the weekends. This information can be put to marketing use so that Ford can advertize these routes and offer incentives to customers to use these routes more frequently over the weekends"
   ]
  },
  {
   "cell_type": "markdown",
   "metadata": {},
   "source": [
    "#### Recommendation Set 2:\n",
    "    - Advertize the above 10 most popular routes on the mobile app (using pictures of landmarks etc)\n",
    "    - Provide discounted flat rates for these trips on the mobile app (ex : $10/hour for a 5-hour trip )"
   ]
  },
  {
   "cell_type": "markdown",
   "metadata": {},
   "source": [
    "### 3. Incentivizing popular weekday routes\n",
    "\n",
    "Incentivizing weekday routes in addition to weekend routes is likely going to help with increasing revenues. How do we identify the popular weekday routes? The following query helps "
   ]
  },
  {
   "cell_type": "code",
   "execution_count": 14,
   "metadata": {},
   "outputs": [
    {
     "name": "stdout",
     "output_type": "stream",
     "text": [
      "\r",
      "Waiting on bqjob_r15807da06cb96151_00000168c83f7346_1 ... (0s) Current status: DONE   "
     ]
    }
   ],
   "source": [
    "! bq query --use_legacy_sql=false --format=csv ' \\\n",
    "SELECT trip_name, COUNT(trip_name) as trip_frequency_weekdays \\\n",
    "FROM ( \\\n",
    "   SELECT CONCAT(start_station_name, \"_\", end_station_name) as trip_name, \\\n",
    "   EXTRACT (DAYOFWEEK from start_date) as day_of_week \\\n",
    "   FROM `reliable-jet-228900.bike_trip_data.bikeshare_trips_clean` \\\n",
    "   ORDER BY trip_name \\\n",
    "   ) \\\n",
    "   where day_of_week > 1 and day_of_week < 7 \\\n",
    "GROUP BY trip_name \\\n",
    "ORDER BY trip_frequency_weekdays DESC \\\n",
    "LIMIT 10; \\\n",
    "' > pop_trips_wkdays.csv"
   ]
  },
  {
   "cell_type": "code",
   "execution_count": 15,
   "metadata": {},
   "outputs": [],
   "source": [
    "pop_trips_wkdays = pd.read_csv('pop_trips_wkdays.csv')"
   ]
  },
  {
   "cell_type": "code",
   "execution_count": 16,
   "metadata": {},
   "outputs": [
    {
     "data": {
      "image/png": "[encoded data removed]",
      "text/plain": [
       "<Figure size 432x288 with 1 Axes>"
      ]
     },
     "metadata": {},
     "output_type": "display_data"
    }
   ],
   "source": [
    "plt3 = pop_trips_wkdays.plot( x = 'trip_name', y = 'trip_frequency_weekdays', kind = 'barh', \n",
    "                            legend = False, fontsize = 10)\n",
    "plt3.set_xlabel (\"Number of Trips\")\n",
    "plt3.set_ylabel (\"Popular Weekday Trip Name\");"
   ]
  },
  {
   "cell_type": "markdown",
   "metadata": {},
   "source": [
    "Similar to the weekends, there are a few popular trips and popular stations that seem to be used more often over the weekdays. However, while the weekend users are likely to be largely tourists, the weekday users are likely to be commuters to work who will use the bikeshare anyway. \n",
    "\n",
    "Perhaps it makes sense to incentivize the users of these routes to use the trips more frequently by making it easy for them to use bikeshare. It is possible that some of them don't use bikeshare frequently because they either don't find bikes or docking stations. For these popular routes, we can try to enable ways to reserve bikes/docking stations ahead of time.\n",
    "\n",
    "Another way is to provide incentives to office mates who might be taking the same route. If a subscriber helps sign up an office mate who is likely to take the same route, Ford Bikeshare might want to provide additional coupons to him/her. All of these could be route based. \n"
   ]
  },
  {
   "cell_type": "markdown",
   "metadata": {},
   "source": [
    "#### Recommendation Set 3:\n",
    "    - Using location based monitoring, identify if a subscriber uses one of these 10 popular routes on a daily basis\n",
    "    - Using  mobile app, provide option to subscribers to pre-book a bike and docking station for these popular commutes for a small incremental price\n",
    "    - Provide frequent user points on the mobile app to subscribers who use these 10 routes frequently\n",
    "    - Provide coupons to subscribers for signing up an office mate to use bikeshare for these 10 routes"
   ]
  },
  {
   "cell_type": "markdown",
   "metadata": {},
   "source": [
    "### 4. Incentivizing Subscribers vs Customers\n",
    "\n",
    "As we have seen above, it makes sense to incentivize users of bikeshare for the popular routes. But should Ford be incentivizing Subscribers or non-subscribers (aka \"Customers\" in the database).\n",
    "The following queries should help identify which section of people to incentivize and whether Ford should focus on weekends or weekdays."
   ]
  },
  {
   "cell_type": "code",
   "execution_count": 17,
   "metadata": {},
   "outputs": [
    {
     "name": "stdout",
     "output_type": "stream",
     "text": [
      "\r",
      "Waiting on bqjob_r428b78adc0f5735c_00000168c83fa999_1 ... (0s) Current status: DONE   "
     ]
    }
   ],
   "source": [
    "! bq query --use_legacy_sql=false --format csv ' \\\n",
    "SELECT subscriber_type, COUNT(trip_id) as trip_count_weekdays \\\n",
    "FROM ( \\\n",
    "   SELECT subscriber_type, trip_id, EXTRACT (DAYOFWEEK from start_date) as day_of_week \\\n",
    "   FROM `reliable-jet-228900.bike_trip_data.bikeshare_trips_clean` \\\n",
    "   ) \\\n",
    "WHERE day_of_week > 1 and day_of_week < 7 \\\n",
    "GROUP BY subscriber_type \\\n",
    "ORDER BY subscriber_type; \\\n",
    "' > cust_prof_trip_count_weekdays"
   ]
  },
  {
   "cell_type": "code",
   "execution_count": 18,
   "metadata": {},
   "outputs": [
    {
     "name": "stdout",
     "output_type": "stream",
     "text": [
      "\r",
      "Waiting on bqjob_r471c2962b7a27b25_00000168c83fb44f_1 ... (0s) Current status: DONE   "
     ]
    }
   ],
   "source": [
    "! bq query --use_legacy_sql=false --format csv '\\\n",
    "SELECT subscriber_type, SUM(trip_length_sum_weekdays) as total_trip_length_weekdays \\\n",
    "FROM ( \\\n",
    "   SELECT subscriber_type, EXTRACT (DAYOFWEEK from start_date) as day_of_week, SUM(duration_sec) as trip_length_sum_weekdays \\\n",
    "   FROM `reliable-jet-228900.bike_trip_data.bikeshare_trips_clean` \\\n",
    "   GROUP BY subscriber_type, day_of_week \\\n",
    "   ) \\\n",
    "   WHERE day_of_week >1 and day_of_week < 7 \\\n",
    "   GROUP BY subscriber_type \\\n",
    "   ORDER BY subscriber_type; \\\n",
    "' > cust_prof_trip_length_weekdays"
   ]
  },
  {
   "cell_type": "code",
   "execution_count": 19,
   "metadata": {},
   "outputs": [
    {
     "name": "stdout",
     "output_type": "stream",
     "text": [
      "\r",
      "Waiting on bqjob_r188a3221dc4f2a98_00000168c83fbebb_1 ... (0s) Current status: DONE   "
     ]
    }
   ],
   "source": [
    "! bq query --use_legacy_sql=false --format csv ' \\\n",
    "SELECT subscriber_type, COUNT(trip_id) as trip_count_weekends \\\n",
    "FROM ( \\\n",
    "   SELECT subscriber_type, trip_id, EXTRACT (DAYOFWEEK from start_date) as day_of_week \\\n",
    "   FROM `reliable-jet-228900.bike_trip_data.bikeshare_trips_clean` \\\n",
    "   ) \\\n",
    "WHERE day_of_week = 1 or day_of_week = 7 \\\n",
    "GROUP BY subscriber_type \\\n",
    "ORDER BY subscriber_type; \\\n",
    "' > cust_prof_trip_count_weekends"
   ]
  },
  {
   "cell_type": "code",
   "execution_count": 20,
   "metadata": {},
   "outputs": [
    {
     "name": "stdout",
     "output_type": "stream",
     "text": [
      "\r",
      "Waiting on bqjob_r39d27ac3373c30b5_00000168c83fc920_1 ... (0s) Current status: DONE   "
     ]
    }
   ],
   "source": [
    "! bq query --use_legacy_sql=false --format csv '\\\n",
    "SELECT subscriber_type, SUM(trip_length_sum_weekends) as total_trip_length_weekends \\\n",
    "FROM ( \\\n",
    "   SELECT subscriber_type, EXTRACT (DAYOFWEEK from start_date) as day_of_week, SUM(duration_sec) as trip_length_sum_weekends \\\n",
    "   FROM `reliable-jet-228900.bike_trip_data.bikeshare_trips_clean` \\\n",
    "   GROUP BY subscriber_type, day_of_week \\\n",
    "   ) \\\n",
    "   WHERE day_of_week = 1 or day_of_week = 7 \\\n",
    "   GROUP BY subscriber_type \\\n",
    "   ORDER BY subscriber_type; \\\n",
    "' > cust_prof_trip_length_weekends"
   ]
  },
  {
   "cell_type": "code",
   "execution_count": 21,
   "metadata": {},
   "outputs": [],
   "source": [
    "cust_prof_trip_count_weekdays = pd.read_csv(\"cust_prof_trip_count_weekdays\")\n",
    "cust_prof_trip_count_weekdays.set_index('subscriber_type', inplace = True)\n",
    "cust_prof_trip_count_weekends = pd.read_csv(\"cust_prof_trip_count_weekends\")\n",
    "cust_prof_trip_count_weekends.set_index('subscriber_type', inplace = True)\n",
    "cust_prof_trip_length_weekdays = pd.read_csv(\"cust_prof_trip_length_weekdays\")\n",
    "cust_prof_trip_length_weekdays.set_index('subscriber_type', inplace = True)\n",
    "cust_prof_trip_length_weekends = pd.read_csv(\"cust_prof_trip_length_weekends\")\n",
    "cust_prof_trip_length_weekends.set_index('subscriber_type', inplace = True)"
   ]
  },
  {
   "cell_type": "code",
   "execution_count": 22,
   "metadata": {},
   "outputs": [],
   "source": [
    "frames = [cust_prof_trip_count_weekdays, cust_prof_trip_count_weekends,cust_prof_trip_length_weekdays, cust_prof_trip_length_weekends]\n",
    "customer_profile = pd.concat(frames, axis = 1)"
   ]
  },
  {
   "cell_type": "code",
   "execution_count": 23,
   "metadata": {},
   "outputs": [
    {
     "data": {
      "text/html": [
       "<div>\n",
       "<style scoped>\n",
       "    .dataframe tbody tr th:only-of-type {\n",
       "        vertical-align: middle;\n",
       "    }\n",
       "\n",
       "    .dataframe tbody tr th {\n",
       "        vertical-align: top;\n",
       "    }\n",
       "\n",
       "    .dataframe thead th {\n",
       "        text-align: right;\n",
       "    }\n",
       "</style>\n",
       "<table border=\"1\" class=\"dataframe\">\n",
       "  <thead>\n",
       "    <tr style=\"text-align: right;\">\n",
       "      <th></th>\n",
       "      <th>trip_count_weekdays</th>\n",
       "      <th>trip_count_weekends</th>\n",
       "      <th>total_trip_length_weekdays</th>\n",
       "      <th>total_trip_length_weekends</th>\n",
       "    </tr>\n",
       "    <tr>\n",
       "      <th>subscriber_type</th>\n",
       "      <th></th>\n",
       "      <th></th>\n",
       "      <th></th>\n",
       "      <th></th>\n",
       "    </tr>\n",
       "  </thead>\n",
       "  <tbody>\n",
       "    <tr>\n",
       "      <th>Customer</th>\n",
       "      <td>80992</td>\n",
       "      <td>54613</td>\n",
       "      <td>221989742</td>\n",
       "      <td>185184278</td>\n",
       "    </tr>\n",
       "    <tr>\n",
       "      <th>Subscriber</th>\n",
       "      <td>783937</td>\n",
       "      <td>55833</td>\n",
       "      <td>442596792</td>\n",
       "      <td>35692051</td>\n",
       "    </tr>\n",
       "  </tbody>\n",
       "</table>\n",
       "</div>"
      ],
      "text/plain": [
       "                 trip_count_weekdays  trip_count_weekends  \\\n",
       "subscriber_type                                             \n",
       "Customer                       80992                54613   \n",
       "Subscriber                    783937                55833   \n",
       "\n",
       "                 total_trip_length_weekdays  total_trip_length_weekends  \n",
       "subscriber_type                                                          \n",
       "Customer                          221989742                   185184278  \n",
       "Subscriber                        442596792                    35692051  "
      ]
     },
     "execution_count": 23,
     "metadata": {},
     "output_type": "execute_result"
    }
   ],
   "source": [
    "customer_profile"
   ]
  },
  {
   "cell_type": "code",
   "execution_count": 24,
   "metadata": {},
   "outputs": [],
   "source": [
    "customer_profile['avg_trip_len_weekdays'] = customer_profile['total_trip_length_weekdays']/customer_profile['trip_count_weekdays']"
   ]
  },
  {
   "cell_type": "code",
   "execution_count": 25,
   "metadata": {},
   "outputs": [],
   "source": [
    "customer_profile['avg_trip_len_weekends'] = customer_profile['total_trip_length_weekends']/customer_profile['trip_count_weekends']"
   ]
  },
  {
   "cell_type": "code",
   "execution_count": 27,
   "metadata": {},
   "outputs": [
    {
     "data": {
      "text/html": [
       "<div>\n",
       "<style scoped>\n",
       "    .dataframe tbody tr th:only-of-type {\n",
       "        vertical-align: middle;\n",
       "    }\n",
       "\n",
       "    .dataframe tbody tr th {\n",
       "        vertical-align: top;\n",
       "    }\n",
       "\n",
       "    .dataframe thead th {\n",
       "        text-align: right;\n",
       "    }\n",
       "</style>\n",
       "<table border=\"1\" class=\"dataframe\">\n",
       "  <thead>\n",
       "    <tr style=\"text-align: right;\">\n",
       "      <th></th>\n",
       "      <th>trip_count_weekdays</th>\n",
       "      <th>trip_count_weekends</th>\n",
       "      <th>total_trip_length_weekdays</th>\n",
       "      <th>total_trip_length_weekends</th>\n",
       "      <th>avg_trip_len_weekdays</th>\n",
       "      <th>avg_trip_len_weekends</th>\n",
       "    </tr>\n",
       "    <tr>\n",
       "      <th>subscriber_type</th>\n",
       "      <th></th>\n",
       "      <th></th>\n",
       "      <th></th>\n",
       "      <th></th>\n",
       "      <th></th>\n",
       "      <th></th>\n",
       "    </tr>\n",
       "  </thead>\n",
       "  <tbody>\n",
       "    <tr>\n",
       "      <th>Customer</th>\n",
       "      <td>80992</td>\n",
       "      <td>54613</td>\n",
       "      <td>221989742</td>\n",
       "      <td>185184278</td>\n",
       "      <td>2740.884803</td>\n",
       "      <td>3390.846099</td>\n",
       "    </tr>\n",
       "    <tr>\n",
       "      <th>Subscriber</th>\n",
       "      <td>783937</td>\n",
       "      <td>55833</td>\n",
       "      <td>442596792</td>\n",
       "      <td>35692051</td>\n",
       "      <td>564.582093</td>\n",
       "      <td>639.264431</td>\n",
       "    </tr>\n",
       "  </tbody>\n",
       "</table>\n",
       "</div>"
      ],
      "text/plain": [
       "                 trip_count_weekdays  trip_count_weekends  \\\n",
       "subscriber_type                                             \n",
       "Customer                       80992                54613   \n",
       "Subscriber                    783937                55833   \n",
       "\n",
       "                 total_trip_length_weekdays  total_trip_length_weekends  \\\n",
       "subscriber_type                                                           \n",
       "Customer                          221989742                   185184278   \n",
       "Subscriber                        442596792                    35692051   \n",
       "\n",
       "                 avg_trip_len_weekdays  avg_trip_len_weekends  \n",
       "subscriber_type                                                \n",
       "Customer                   2740.884803            3390.846099  \n",
       "Subscriber                  564.582093             639.264431  "
      ]
     },
     "execution_count": 27,
     "metadata": {},
     "output_type": "execute_result"
    }
   ],
   "source": [
    "customer_profile"
   ]
  },
  {
   "cell_type": "markdown",
   "metadata": {},
   "source": [
    "From the above summary of the customer profile, we can gather a few important observations:\n",
    "    - Subscribers generally take shorter but more frequent trips during weekdays. These are likely the working class commuters\n",
    "    - Customers generally take longer trips than subscribers, especially over weekends. These are likely tourists with families"
   ]
  },
  {
   "cell_type": "markdown",
   "metadata": {},
   "source": [
    "#### Recommendation Set 4:\n",
    "    - Provide loyalty points to subcribers based on weekday trips that allow them to get free trips (ex: one free 30 minute trip for 10 trips taken)\n",
    "    - Offer one time incentive to customers for converting themselves into subscribers (ex: 5 hours of free rides)\n",
    "    - Using mobile app, Offer bundle deals to families over weekends (ex: discount of x% for family of four)\n"
   ]
  },
  {
   "cell_type": "markdown",
   "metadata": {},
   "source": [
    "#### Conclusions and future work\n",
    "The report provides some recommendations to increase user base and revenue for Ford Bikeshare based on SQL analysis of the bikeshare_trips public database using Google BigQuery. Based on the findings, it is recommended that Ford Bikeshare provide differentiated initiatives to subscribers and non-subscribers based on popular routes, weekends vs weekdays, and tourists vs commuters.\n",
    "\n",
    "For further analysis, Ford Bikeshare could combine information on its own customers with this trip database to provide incentives tailored to its customer base. In particular, there has to be more work done in figuring out pricing models for the discounts and incentives described in this report."
   ]
  }
 ],
 "metadata": {
  "kernelspec": {
   "display_name": "Python 3",
   "language": "python",
   "name": "python3"
  },
  "language_info": {
   "codemirror_mode": {
    "name": "ipython",
    "version": 3
   },
   "file_extension": ".py",
   "mimetype": "text/x-python",
   "name": "python",
   "nbconvert_exporter": "python",
   "pygments_lexer": "ipython3",
   "version": "3.5.2"
  }
 },
 "nbformat": 4,
 "nbformat_minor": 2
}
